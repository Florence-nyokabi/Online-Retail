{
 "cells": [
  {
   "cell_type": "markdown",
   "id": "85a5b8a6-2565-4aa3-a139-3aa6495f9888",
   "metadata": {},
   "source": [
    "# Online Retail Dataset"
   ]
  },
  {
   "cell_type": "markdown",
   "id": "c496fb33-c0c7-4029-841b-477657f01304",
   "metadata": {},
   "source": [
    "### Overview\n",
    "\n",
    "**Dataset**: Online Retail Dataset\n",
    "\n",
    "- **Source**: UCI Machine Learning Repository\n",
    "- **Link**: [Online Retail Dataset](https://archive.ics.uci.edu/ml/datasets/online+retail)\n",
    "\n",
    "**Explanation**:\n",
    "\n",
    "- **Size and Features**: Contains over 500,000 rows with features like Quantity, UnitPrice, and CustomerID.\n",
    "- **Suitability**: Ideal for clustering (customer segmentation), anomaly detection (fraud detection), and association rule mining (market basket analysis).\n",
    "- **Reason**: Large size and diverse features make it perfect for various unsupervised learning tasks and real-world applications.\n"
   ]
  },
  {
   "cell_type": "markdown",
   "id": "8765b069-0f72-488d-96cc-1535144d3e91",
   "metadata": {},
   "source": [
    "# Step 1: Data Acquisition"
   ]
  },
  {
   "cell_type": "code",
   "execution_count": 2,
   "id": "084bf136-167a-4cc4-bdbb-a0f076eb7ed2",
   "metadata": {},
   "outputs": [],
   "source": [
    "import pandas as pd\n",
    "import matplotlib.pyplot as plt\n",
    "import seaborn as sns"
   ]
  },
  {
   "cell_type": "code",
   "execution_count": null,
   "id": "df629421-2eeb-4fa4-9ce9-e33eb4761c92",
   "metadata": {},
   "outputs": [],
   "source": [
    "# Define the URL to the CSV file\n",
    "url = 'https://archive.ics.uci.edu/static/public/352/data.csv'\n",
    "\n",
    "# Load the CSV file into a DataFrame\n",
    "df = pd.read_csv(url)"
   ]
  },
  {
   "cell_type": "code",
   "execution_count": null,
   "id": "e6765d79-d659-4596-99cd-fda16fc97b86",
   "metadata": {},
   "outputs": [],
   "source": [
    "print(df.head(20))"
   ]
  },
  {
   "cell_type": "markdown",
   "id": "b6d58e09-c2a0-4fdf-84ab-d0ab1431eddb",
   "metadata": {},
   "source": [
    "# Step 2: Data Cleaning"
   ]
  },
  {
   "cell_type": "markdown",
   "id": "c086870f-00f8-464f-ad24-154c854ab5b5",
   "metadata": {},
   "source": [
    "## 1. Identifying and Handling Missing Values"
   ]
  },
  {
   "cell_type": "code",
   "execution_count": null,
   "id": "add98221-7fc4-4658-80b8-5640ea6b1aac",
   "metadata": {},
   "outputs": [],
   "source": [
    "# Check for missing values\n",
    "\n",
    "missing_values = df.isnull().sum()\n",
    "print(\"Missing values per column:\\n\", missing_values)"
   ]
  },
  {
   "cell_type": "code",
   "execution_count": null,
   "id": "7078b758-3ee6-45c9-877d-a419eaba4c4f",
   "metadata": {},
   "outputs": [],
   "source": [
    "# Handling missing values: Imputation -> Filling with Unknown\n",
    "\n",
    "df = df.dropna(subset=['CustomerID', 'Description'])"
   ]
  },
  {
   "cell_type": "code",
   "execution_count": null,
   "id": "91fcb008-1627-4594-a7b3-c0f2d56b1122",
   "metadata": {},
   "outputs": [],
   "source": [
    "#  Verify that there are no missing columns after cleaning\n",
    "\n",
    "missing_values = df.isnull().sum()\n",
    "print(\"Missing values per column:\\n\", missing_values)"
   ]
  },
  {
   "cell_type": "markdown",
   "id": "31a42963-8e17-4b91-9cc3-b9225d739ecd",
   "metadata": {},
   "source": [
    "## 2. Identifying and Handling Duplicate Values"
   ]
  },
  {
   "cell_type": "code",
   "execution_count": null,
   "id": "17b170da-503f-4172-b0d0-56b6000c2a90",
   "metadata": {},
   "outputs": [],
   "source": [
    "# Check for duplicate entries\n",
    "\n",
    "duplicates = df.duplicated().sum()\n",
    "print(f\"Number of duplicate rows: {duplicates}\")\n"
   ]
  },
  {
   "cell_type": "code",
   "execution_count": null,
   "id": "d7787bff-e3ba-4ed4-8349-82c85852bdd6",
   "metadata": {},
   "outputs": [],
   "source": [
    "duplicate_rows = df[df.duplicated(keep=False)]\n",
    "print(\"Duplicate rows:\")\n",
    "print(duplicate_rows)\n"
   ]
  },
  {
   "cell_type": "markdown",
   "id": "83e58169-f509-4df2-b09c-9e8af103dc6c",
   "metadata": {},
   "source": [
    "## 3. Checking for Data Type Inconsistencies"
   ]
  },
  {
   "cell_type": "code",
   "execution_count": null,
   "id": "a0429a16-e111-4590-ad36-7439f2e577a3",
   "metadata": {},
   "outputs": [],
   "source": [
    "print(df.dtypes)"
   ]
  },
  {
   "cell_type": "code",
   "execution_count": null,
   "id": "c9443267-87d1-4775-bf51-415041f9c9bd",
   "metadata": {},
   "outputs": [],
   "source": [
    "# Convert 'InvoiceDate' to datetime type\n",
    "df['InvoiceDate'] = pd.to_datetime(df['InvoiceDate'], errors='coerce')\n",
    "\n",
    "# Convert 'CustomerID' to string (since it's more of an identifier)\n",
    "df['CustomerID'] = df['CustomerID'].astype('Int64').astype(str)\n",
    "\n",
    "# Convert 'InvoiceNo', 'StockCode', and 'Country' to categorical type\n",
    "df['InvoiceNo'] = df['InvoiceNo'].astype('category')\n",
    "df['StockCode'] = df['StockCode'].astype('category')\n",
    "df['Country'] = df['Country'].astype('category')"
   ]
  },
  {
   "cell_type": "code",
   "execution_count": null,
   "id": "c7135e37-4c20-4ad2-8782-b0754da713a4",
   "metadata": {},
   "outputs": [],
   "source": [
    "print(df.dtypes)"
   ]
  },
  {
   "cell_type": "code",
   "execution_count": null,
   "id": "2fee7a26-843c-4163-abeb-d060a942aa37",
   "metadata": {},
   "outputs": [],
   "source": [
    "print(df.describe())"
   ]
  },
  {
   "cell_type": "markdown",
   "id": "7fb1764e-cdb9-4379-bd54-03685b1b02c6",
   "metadata": {},
   "source": [
    "## 4. Removing Negative Quantities"
   ]
  },
  {
   "cell_type": "code",
   "execution_count": null,
   "id": "b7d2d72e-5567-4851-9921-e5020c4d4a5e",
   "metadata": {},
   "outputs": [],
   "source": [
    "df = df[df['Quantity'] >= 0]"
   ]
  },
  {
   "cell_type": "code",
   "execution_count": null,
   "id": "200f27a3-29fd-4e06-91a8-d6b210edcd61",
   "metadata": {},
   "outputs": [],
   "source": [
    "print(df.describe())"
   ]
  },
  {
   "cell_type": "code",
   "execution_count": null,
   "id": "9ec5b8ce-d2fb-459b-bdf5-be0717956b36",
   "metadata": {},
   "outputs": [],
   "source": [
    "# Remove rows with negative Quantity\n",
    "df = df[df['Quantity'] >= 0]\n",
    "\n",
    "# Remove rows with Quantity greater than 1000 (adjust this threshold as needed)\n",
    "df = df[df['Quantity'] <= 1000]\n",
    "\n",
    "# Remove rows with UnitPrice equal to 0 or extremely high values (>1000)\n",
    "df= df[(df['UnitPrice'] > 0) & (df['UnitPrice'] <= 1000)]\n",
    "\n",
    "# Summary of cleaned data\n",
    "cleaned_summary = df.describe()\n",
    "print(\"Cleaned Data Summary:\")\n",
    "print(cleaned_summary)\n",
    "\n",
    "print(f\"\\nDataset shape after cleaning: {df.shape}\")"
   ]
  },
  {
   "cell_type": "code",
   "execution_count": null,
   "id": "f1b793a2-40db-43b5-9ee2-ddcbfbc59dcb",
   "metadata": {},
   "outputs": [],
   "source": [
    "print(\"Missing values in each column:\")\n",
    "print(missing_values)"
   ]
  },
  {
   "cell_type": "code",
   "execution_count": null,
   "id": "2f73f01d-9e83-46b7-a368-9bbd75b0cc55",
   "metadata": {},
   "outputs": [],
   "source": [
    "# Check distribution of key features\n",
    "print(\"Distribution of Quantity:\")\n",
    "print(df['Quantity'].describe())\n",
    "\n",
    "print(\"\\nDistribution of UnitPrice:\")\n",
    "print(df['UnitPrice'].describe())"
   ]
  },
  {
   "cell_type": "markdown",
   "id": "c62ea483-6c0d-463f-8b2d-6ec72bb64183",
   "metadata": {},
   "source": [
    "## 5. Identifying Unique Values in Categorical columns"
   ]
  },
  {
   "cell_type": "code",
   "execution_count": null,
   "id": "6e5ae45c-1423-4406-bdad-4448b36347bb",
   "metadata": {},
   "outputs": [],
   "source": [
    "# Check unique values in categorical columns\n",
    "print(\"Unique values in Description:\")\n",
    "print(df['Description'].unique()[:10])\n",
    "\n",
    "print(\"\\nUnique values in CustomerID:\")\n",
    "print(df['CustomerID'].nunique())\n",
    "\n",
    "print(\"\\nUnique values in Country:\")\n",
    "print(df['Country'].unique())\n"
   ]
  },
  {
   "cell_type": "markdown",
   "id": "7e339170-0dfe-49b1-8b0e-3af957ae65bf",
   "metadata": {},
   "source": [
    "# Step 3: Feature Engineering"
   ]
  },
  {
   "cell_type": "markdown",
   "id": "e4f62312-4361-4a0c-8442-7329b507bef2",
   "metadata": {},
   "source": [
    "#### 1. TotalPrice\n",
    "- `Rationale`: The TotalPrice feature provides a more comprehensive view of the transaction by multiplying Quantity with UnitPrice. "
   ]
  },
  {
   "cell_type": "code",
   "execution_count": null,
   "id": "317dacbf-05a2-4a74-9591-84d5e5a30b5b",
   "metadata": {},
   "outputs": [],
   "source": [
    "# TotalPrice\n",
    "\n",
    "df['TotalPrice'] = df['Quantity'] * df['UnitPrice']"
   ]
  },
  {
   "cell_type": "markdown",
   "id": "5caefb5d-6fd4-44a0-ab84-b2b2d4776e81",
   "metadata": {},
   "source": [
    "### 2. TransactionMonth\n",
    "- `Rationale`: Extracting the month from InvoiceDate can help in analyzing seasonal trends and patterns."
   ]
  },
  {
   "cell_type": "code",
   "execution_count": null,
   "id": "fabee712-4b19-4c2c-95cf-23bfa02db160",
   "metadata": {},
   "outputs": [],
   "source": [
    "# Extracting month from InvoiceDate\n",
    "\n",
    "df['TransactionMonth'] = df['InvoiceDate'].dt.month"
   ]
  },
  {
   "cell_type": "markdown",
   "id": "0518fb02-a37a-41c5-a542-79fa32dca971",
   "metadata": {},
   "source": [
    "### 3. IsDiscounted\n",
    "- `Rationale`: Creating a binary feature indicating whether a transaction price is considered a discount or not"
   ]
  },
  {
   "cell_type": "code",
   "execution_count": null,
   "id": "cf03053e-cb61-4a56-aee2-f66039fe1252",
   "metadata": {},
   "outputs": [],
   "source": [
    "# Define a threshold for discount\n",
    "discount_threshold = 2.0  \n",
    "\n",
    "# Create IsDiscounted feature\n",
    "df['IsDiscounted'] = df['UnitPrice'] < discount_threshold"
   ]
  },
  {
   "cell_type": "markdown",
   "id": "7c322f80-00ab-45b4-8060-73fe7c965a90",
   "metadata": {},
   "source": [
    "#### Summary of New Features:\n",
    "  1. `TotalPrice`: Reflects the total monetary value of each transaction, which is useful for understanding the transaction's impact.\n",
    "  2. `TransactionMonth`: Helps capture seasonal patterns and trends in transactions.\n",
    "  3. `IsDiscounted`: Indicates whether the transaction price is considered discounted, useful for analyzing promotions and price sensitivity."
   ]
  },
  {
   "cell_type": "code",
   "execution_count": null,
   "id": "63a44d60-1b3f-4923-9bd2-050bb01b3ab4",
   "metadata": {},
   "outputs": [],
   "source": [
    "# Display the first few rows of the DataFrame with the new features\n",
    "\n",
    "print(df[['TotalPrice', 'TransactionMonth', 'IsDiscounted']].head())"
   ]
  },
  {
   "cell_type": "markdown",
   "id": "139cc9b4-f7ec-4642-96c0-627fadda0691",
   "metadata": {},
   "source": [
    "# Step 4: Data Visualization"
   ]
  },
  {
   "cell_type": "markdown",
   "id": "cdb8d8ae-b281-41de-a76e-bda8e5ae6222",
   "metadata": {},
   "source": [
    "### 1. Distribution of Features\n",
    "- Visualization: Histograms for Quantity, TotalPrice, and UnitPrice."
   ]
  },
  {
   "cell_type": "code",
   "execution_count": null,
   "id": "650d88c4-68c0-4112-bcae-522df9ac41d9",
   "metadata": {},
   "outputs": [],
   "source": [
    "import matplotlib.pyplot as plt\n",
    "import seaborn as sns\n",
    "\n",
    "# Set the aesthetics\n",
    "sns.set(style=\"whitegrid\")\n",
    "\n",
    "# Create a figure and axes\n",
    "fig, axes = plt.subplots(1, 3, figsize=(18, 5))\n",
    "\n",
    "# Plot histograms\n",
    "sns.histplot(df['Quantity'], kde=True, ax=axes[0])\n",
    "axes[0].set_title('Distribution of Quantity')\n",
    "\n",
    "sns.histplot(df['TotalPrice'], kde=True, ax=axes[1])\n",
    "axes[1].set_title('Distribution of TotalPrice')\n",
    "\n",
    "sns.histplot(df['UnitPrice'], kde=True, ax=axes[2])\n",
    "axes[2].set_title('Distribution of UnitPrice')\n",
    "\n",
    "plt.tight_layout()\n",
    "plt.show()"
   ]
  },
  {
   "cell_type": "code",
   "execution_count": null,
   "id": "1ae84879-6142-48c9-9980-092558e2e467",
   "metadata": {},
   "outputs": [],
   "source": [
    "# Calculate the correlation matrix\n",
    "corr_matrix = df[['Quantity', 'TotalPrice', 'UnitPrice']].corr()\n",
    "\n",
    "# Plot heatmap\n",
    "plt.figure(figsize=(10, 7))\n",
    "sns.heatmap(corr_matrix, annot=True, cmap='coolwarm', fmt=\".2f\", linewidths=0.5)\n",
    "plt.title('Heatmap of Feature Correlations')\n",
    "plt.show()"
   ]
  },
  {
   "cell_type": "code",
   "execution_count": null,
   "id": "d3067ac0-a896-428d-b337-7f37d16fedca",
   "metadata": {},
   "outputs": [],
   "source": [
    "# Plot pairplot\n",
    "sns.pairplot(df[['Quantity', 'TotalPrice', 'UnitPrice']])\n",
    "plt.suptitle('Pairwise Relationships Between Features', y=1.02)\n",
    "plt.show()"
   ]
  },
  {
   "cell_type": "code",
   "execution_count": null,
   "id": "b3d3010f-2e2c-4e2d-b60e-4ca21b20f8e0",
   "metadata": {},
   "outputs": [],
   "source": [
    "# Create a figure and axes\n",
    "fig, axes = plt.subplots(1, 3, figsize=(18, 5))\n",
    "\n",
    "# Plot box plots\n",
    "sns.boxplot(x=df['Quantity'], ax=axes[0])\n",
    "axes[0].set_title('Box Plot of Quantity')\n",
    "\n",
    "sns.boxplot(x=df['TotalPrice'], ax=axes[1])\n",
    "axes[1].set_title('Box Plot of TotalPrice')\n",
    "\n",
    "sns.boxplot(x=df['UnitPrice'], ax=axes[2])\n",
    "axes[2].set_title('Box Plot of UnitPrice')\n",
    "\n",
    "plt.tight_layout()\n",
    "plt.show()"
   ]
  },
  {
   "cell_type": "code",
   "execution_count": null,
   "id": "09db8be2-c141-401e-8e01-6e9ce3fe6971",
   "metadata": {},
   "outputs": [],
   "source": [
    "from sklearn.decomposition import PCA\n",
    "\n",
    "# Perform PCA\n",
    "pca = PCA(n_components=2)\n",
    "pca_result = pca.fit_transform(df[['TotalPrice', 'Quantity']])\n",
    "\n",
    "# Create a DataFrame for PCA results\n",
    "pca_df = pd.DataFrame(data=pca_result, columns=['PC1', 'PC2'])\n",
    "\n",
    "# Plot PCA results\n",
    "plt.figure(figsize=(10, 7))\n",
    "plt.scatter(pca_df['PC1'], pca_df['PC2'], alpha=0.5, c=df['Country'].astype('category').cat.codes)\n",
    "plt.colorbar(label='Country')\n",
    "plt.xlabel('Principal Component 1')\n",
    "plt.ylabel('Principal Component 2')\n",
    "plt.title('PCA - Cluster Visualization')\n",
    "plt.show()"
   ]
  },
  {
   "cell_type": "markdown",
   "id": "5fcdca2e-6d1b-40cf-94a1-079fd800e9d4",
   "metadata": {},
   "source": [
    "# Step 5: Unsupervised Learning Models"
   ]
  },
  {
   "cell_type": "markdown",
   "id": "290b6125-c115-4c44-8371-df5c8ee0f7de",
   "metadata": {},
   "source": [
    "### 1. K-Means Clustering"
   ]
  },
  {
   "cell_type": "markdown",
   "id": "c432dd11-448b-4f81-959c-976065369a5a",
   "metadata": {},
   "source": [
    "#### Step 1: Train the Model"
   ]
  },
  {
   "cell_type": "code",
   "execution_count": null,
   "id": "1803e28b-5fd1-4c47-ab65-eb28c5c4cc9a",
   "metadata": {},
   "outputs": [],
   "source": [
    "from sklearn.cluster import KMeans\n",
    "from sklearn.metrics import silhouette_score\n",
    "import numpy as np\n",
    "\n",
    "# Prepare data for clustering\n",
    "X = df[['TotalPrice', 'Quantity']].values\n",
    "\n",
    "# Train K-Means model\n",
    "kmeans = KMeans(n_clusters=4, random_state=42)\n",
    "kmeans.fit(X)\n",
    "\n",
    "# Assign cluster labels\n",
    "df['KMeans_Cluster'] = kmeans.labels_"
   ]
  },
  {
   "cell_type": "markdown",
   "id": "008ce681-9440-4eca-a1f6-1b785db00e85",
   "metadata": {},
   "source": [
    "#### Step 2: Visualize Results"
   ]
  },
  {
   "cell_type": "code",
   "execution_count": null,
   "id": "5bdefc56-6d5a-4850-9e6c-13f7adffc40a",
   "metadata": {},
   "outputs": [],
   "source": [
    "# Visualize K-Means Clustering results\n",
    "plt.figure(figsize=(10, 7))\n",
    "plt.scatter(X[:, 0], X[:, 1], c=kmeans.labels_, cmap='viridis', marker='o', alpha=0.6)\n",
    "plt.title('K-Means Clustering Results')\n",
    "plt.xlabel('TotalPrice')\n",
    "plt.ylabel('Quantity')\n",
    "plt.show()"
   ]
  },
  {
   "cell_type": "markdown",
   "id": "4c89ba6f-708c-4816-9b2a-1c929d657656",
   "metadata": {},
   "source": [
    "#### Step 3: Evaluate the Model"
   ]
  },
  {
   "cell_type": "code",
   "execution_count": null,
   "id": "747e146b-be40-424a-997a-d34da015b299",
   "metadata": {},
   "outputs": [],
   "source": [
    "# Evaluate using silhouette score\n",
    "\n",
    "silhouette_kmeans = silhouette_score(X, kmeans.labels_)\n",
    "print(f'Silhouette Score for K-Means: {silhouette_kmeans}')"
   ]
  },
  {
   "cell_type": "markdown",
   "id": "389f638b-bcbd-45bf-a6bb-812d8183595b",
   "metadata": {},
   "source": [
    "### 2. Hierarchical Clustering"
   ]
  },
  {
   "cell_type": "markdown",
   "id": "c1226448-9151-413f-97a1-34e4bf4d2d1e",
   "metadata": {},
   "source": [
    "#### Step 1: Train the Model"
   ]
  },
  {
   "cell_type": "code",
   "execution_count": null,
   "id": "5be378c4-5148-452c-8ed7-7124492924a9",
   "metadata": {},
   "outputs": [],
   "source": [
    "from sklearn.cluster import AgglomerativeClustering\n",
    "\n",
    "# Train Hierarchical Clustering model\n",
    "hierarchical = AgglomerativeClustering(n_clusters=4)\n",
    "df['Hierarchical_Cluster'] = hierarchical.fit_predict(X)"
   ]
  },
  {
   "cell_type": "markdown",
   "id": "24ca8c03-ced3-47b1-8db5-31a8b7a0f8e0",
   "metadata": {},
   "source": [
    "#### Step 2: Visualize Results"
   ]
  },
  {
   "cell_type": "code",
   "execution_count": null,
   "id": "4de9724f-009e-4429-b377-bbc3fb920154",
   "metadata": {},
   "outputs": [],
   "source": [
    "# Visualize Hierarchical Clustering results\n",
    "plt.figure(figsize=(10, 7))\n",
    "plt.scatter(X[:, 0], X[:, 1], c=df['Hierarchical_Cluster'], cmap='plasma', marker='o', alpha=0.6)\n",
    "plt.title('Hierarchical Clustering Results')\n",
    "plt.xlabel('TotalPrice')\n",
    "plt.ylabel('Quantity')\n",
    "plt.show()"
   ]
  },
  {
   "cell_type": "markdown",
   "id": "d20f9070-178d-4097-80a4-30d8028de4c6",
   "metadata": {},
   "source": [
    "#### Step 3: Evaluate the Model"
   ]
  },
  {
   "cell_type": "code",
   "execution_count": null,
   "id": "80466528-1678-4f14-9250-81cf4467a93c",
   "metadata": {},
   "outputs": [],
   "source": [
    "# Evaluate using silhouette score\n",
    "silhouette_hierarchical = silhouette_score(X, df['Hierarchical_Cluster'])\n",
    "print(f'Silhouette Score for Hierarchical Clustering: {silhouette_hierarchical}')\n"
   ]
  },
  {
   "cell_type": "markdown",
   "id": "2ceed0d1-48b5-4532-ae37-500a1a1ae614",
   "metadata": {},
   "source": [
    "### 3. DBSCAN"
   ]
  },
  {
   "cell_type": "markdown",
   "id": "5a61e278-2e06-4d12-bc97-d246625415de",
   "metadata": {},
   "source": [
    "#### Step 1: Train the Model"
   ]
  },
  {
   "cell_type": "code",
   "execution_count": null,
   "id": "937f3a48-215a-4be5-9bc1-3b3f084b4d91",
   "metadata": {},
   "outputs": [],
   "source": [
    "from sklearn.cluster import DBSCAN\n",
    "\n",
    "# Train DBSCAN model\n",
    "dbscan = DBSCAN(eps=5, min_samples=10)\n",
    "df['DBSCAN_Cluster'] = dbscan.fit_predict(X)"
   ]
  },
  {
   "cell_type": "markdown",
   "id": "ab032295-6f88-4152-afc5-66a92e9750e9",
   "metadata": {},
   "source": [
    "#### Step 2: Visualize Results"
   ]
  },
  {
   "cell_type": "code",
   "execution_count": null,
   "id": "fa8051ce-5df4-4cdc-958e-2e63b660e1c0",
   "metadata": {},
   "outputs": [],
   "source": [
    "# Visualize DBSCAN Clustering results\n",
    "plt.figure(figsize=(10, 7))\n",
    "plt.scatter(X[:, 0], X[:, 1], c=df['DBSCAN_Cluster'], cmap='coolwarm', marker='o', alpha=0.6)\n",
    "plt.title('DBSCAN Clustering Results')\n",
    "plt.xlabel('TotalPrice')\n",
    "plt.ylabel('Quantity')\n",
    "plt.show()"
   ]
  },
  {
   "cell_type": "markdown",
   "id": "7220a02a-d693-47c6-b6f5-096d49b867ee",
   "metadata": {},
   "source": [
    "#### Step 3: Evaluate the Model"
   ]
  },
  {
   "cell_type": "code",
   "execution_count": null,
   "id": "c4dcde46-4141-494e-ac73-7a2448657bcd",
   "metadata": {},
   "outputs": [],
   "source": [
    "# Evaluate using silhouette score\n",
    "silhouette_dbscan = silhouette_score(X, df['DBSCAN_Cluster'])\n",
    "print(f'Silhouette Score for DBSCAN: {silhouette_dbscan}')"
   ]
  },
  {
   "cell_type": "markdown",
   "id": "a38efc2d-80f8-4799-b849-7455e5d9379c",
   "metadata": {},
   "source": [
    "### 4. Principal Component Analysis (PCA)"
   ]
  },
  {
   "cell_type": "markdown",
   "id": "3183daf1-5ccc-4e0b-ac3e-61f22f84036b",
   "metadata": {},
   "source": [
    "#### Step 1: Train the Model"
   ]
  },
  {
   "cell_type": "code",
   "execution_count": null,
   "id": "4ff3f51e-1875-4ffa-83c4-cb54e0563bfc",
   "metadata": {},
   "outputs": [],
   "source": [
    "from sklearn.decomposition import PCA\n",
    "\n",
    "# Train PCA model\n",
    "pca = PCA(n_components=2)\n",
    "pca_result = pca.fit_transform(X)\n",
    "df['PCA1'] = pca_result[:, 0]\n",
    "df['PCA2'] = pca_result[:, 1]"
   ]
  },
  {
   "cell_type": "markdown",
   "id": "6bfe80ee-fa2b-464e-a6fa-1ff240d166b4",
   "metadata": {},
   "source": [
    "#### Step 2: Visualize Results"
   ]
  },
  {
   "cell_type": "code",
   "execution_count": null,
   "id": "e3a91f16-ef1c-4a73-8e78-76dd98c2e2c9",
   "metadata": {},
   "outputs": [],
   "source": [
    "# Visualize PCA Results\n",
    "plt.figure(figsize=(10, 7))\n",
    "plt.scatter(df['PCA1'], df['PCA2'], c=kmeans.labels_, cmap='Spectral', marker='o', alpha=0.6)\n",
    "plt.title('PCA Results')\n",
    "plt.xlabel('PCA1')\n",
    "plt.ylabel('PCA2')\n",
    "plt.show()"
   ]
  },
  {
   "cell_type": "markdown",
   "id": "5666fa7a-9f76-42c4-9896-d7ccbd13b96e",
   "metadata": {},
   "source": [
    "#### Step 3: Evaluate the Model"
   ]
  },
  {
   "cell_type": "code",
   "execution_count": null,
   "id": "21ca5e30-4ac5-4563-a3ac-215e7c2753c5",
   "metadata": {},
   "outputs": [],
   "source": [
    "# Evaluate using explained variance ratio\n",
    "explained_variance = pca.explained_variance_ratio_\n",
    "print(f'Explained Variance Ratio: {explained_variance}')"
   ]
  },
  {
   "cell_type": "markdown",
   "id": "c9aa5727-7b63-4bf9-872a-92c25770f892",
   "metadata": {},
   "source": [
    "## Model Comparison"
   ]
  },
  {
   "cell_type": "code",
   "execution_count": null,
   "id": "6ca3a53a-dd16-4947-bfb4-b35032477fd0",
   "metadata": {},
   "outputs": [],
   "source": [
    "print(f\"Silhouette Score for K-Means: {silhouette_kmeans}\")\n",
    "print(f\"Silhouette Score for Hierarchical Clustering: {silhouette_hierarchical}\")\n",
    "print(f\"Silhouette Score for DBSCAN: {silhouette_dbscan}\")\n",
    "print(f\"Explained Variance Ratio for PCA: {explained_variance}\")"
   ]
  }
 ],
 "metadata": {
  "kernelspec": {
   "display_name": "Python 3 (ipykernel)",
   "language": "python",
   "name": "python3"
  },
  "language_info": {
   "codemirror_mode": {
    "name": "ipython",
    "version": 3
   },
   "file_extension": ".py",
   "mimetype": "text/x-python",
   "name": "python",
   "nbconvert_exporter": "python",
   "pygments_lexer": "ipython3",
   "version": "3.12.4"
  }
 },
 "nbformat": 4,
 "nbformat_minor": 5
}
